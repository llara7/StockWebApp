{
  "nbformat": 4,
  "nbformat_minor": 0,
  "metadata": {
    "colab": {
      "name": "StockRiskCalculator.ipynb",
      "provenance": [],
      "authorship_tag": "ABX9TyPpQp8PhTzCiCTOHP9Jk4VE",
      "include_colab_link": true
    },
    "kernelspec": {
      "name": "python3",
      "display_name": "Python 3"
    }
  },
  "cells": [
    {
      "cell_type": "markdown",
      "metadata": {
        "id": "view-in-github",
        "colab_type": "text"
      },
      "source": [
        "<a href=\"https://colab.research.google.com/github/llara7/StockWebApp/blob/master/StockRiskCalculator.ipynb\" target=\"_parent\"><img src=\"https://colab.research.google.com/assets/colab-badge.svg\" alt=\"Open In Colab\"/></a>"
      ]
    },
    {
      "cell_type": "code",
      "metadata": {
        "id": "znlLKUZONFA2",
        "colab_type": "code",
        "colab": {}
      },
      "source": [
        "# This program determines the risk of trading a stock.\n",
        "# This Stock Risk Calculator was created using several Python Data Science libraries as well as the Yahoo Finance market data downloader"
      ],
      "execution_count": null,
      "outputs": []
    },
    {
      "cell_type": "code",
      "metadata": {
        "id": "V7kRwR7aNRQp",
        "colab_type": "code",
        "colab": {}
      },
      "source": [
        "# In order to get this program to work make sure that the cell below is running by simply executing it.\n",
        "# After the cell below is executed simply execute the fourth cell and enter a stock symbol such as:\n",
        "# GOOG, TSLA, AAPL, or any other stock symbol \n",
        "# Type 'quit' to stop the program. "
      ],
      "execution_count": null,
      "outputs": []
    },
    {
      "cell_type": "code",
      "metadata": {
        "id": "mUJt5KjKNXyW",
        "colab_type": "code",
        "colab": {
          "base_uri": "https://localhost:8080/",
          "height": 377
        },
        "outputId": "cb93834e-c47d-4ff5-fb5a-75745151cde6"
      },
      "source": [
        "!pip install yfinance --upgrade --no-cache-dir "
      ],
      "execution_count": 1,
      "outputs": [
        {
          "output_type": "stream",
          "text": [
            "Collecting yfinance\n",
            "  Downloading https://files.pythonhosted.org/packages/c2/31/8b374a12b90def92a4e27d0fc595fc43635f395984e36a075244d98bd265/yfinance-0.1.54.tar.gz\n",
            "Requirement already satisfied, skipping upgrade: pandas>=0.24 in /usr/local/lib/python3.6/dist-packages (from yfinance) (1.0.5)\n",
            "Requirement already satisfied, skipping upgrade: numpy>=1.15 in /usr/local/lib/python3.6/dist-packages (from yfinance) (1.18.5)\n",
            "Requirement already satisfied, skipping upgrade: requests>=2.20 in /usr/local/lib/python3.6/dist-packages (from yfinance) (2.23.0)\n",
            "Requirement already satisfied, skipping upgrade: multitasking>=0.0.7 in /usr/local/lib/python3.6/dist-packages (from yfinance) (0.0.9)\n",
            "Requirement already satisfied, skipping upgrade: python-dateutil>=2.6.1 in /usr/local/lib/python3.6/dist-packages (from pandas>=0.24->yfinance) (2.8.1)\n",
            "Requirement already satisfied, skipping upgrade: pytz>=2017.2 in /usr/local/lib/python3.6/dist-packages (from pandas>=0.24->yfinance) (2018.9)\n",
            "Requirement already satisfied, skipping upgrade: urllib3!=1.25.0,!=1.25.1,<1.26,>=1.21.1 in /usr/local/lib/python3.6/dist-packages (from requests>=2.20->yfinance) (1.24.3)\n",
            "Requirement already satisfied, skipping upgrade: idna<3,>=2.5 in /usr/local/lib/python3.6/dist-packages (from requests>=2.20->yfinance) (2.10)\n",
            "Requirement already satisfied, skipping upgrade: chardet<4,>=3.0.2 in /usr/local/lib/python3.6/dist-packages (from requests>=2.20->yfinance) (3.0.4)\n",
            "Requirement already satisfied, skipping upgrade: certifi>=2017.4.17 in /usr/local/lib/python3.6/dist-packages (from requests>=2.20->yfinance) (2020.6.20)\n",
            "Requirement already satisfied, skipping upgrade: six>=1.5 in /usr/local/lib/python3.6/dist-packages (from python-dateutil>=2.6.1->pandas>=0.24->yfinance) (1.15.0)\n",
            "Building wheels for collected packages: yfinance\n",
            "  Building wheel for yfinance (setup.py) ... \u001b[?25l\u001b[?25hdone\n",
            "  Created wheel for yfinance: filename=yfinance-0.1.54-py2.py3-none-any.whl size=22409 sha256=bb69ae4e0f2df727d164c75e47d1ae17bb6629a36793964f89f70def4d40e9c0\n",
            "  Stored in directory: /tmp/pip-ephem-wheel-cache-dxjheuoh/wheels/f9/e3/5b/ec24dd2984b12d61e0abf26289746c2436a0e7844f26f2515c\n",
            "Successfully built yfinance\n",
            "Installing collected packages: yfinance\n",
            "Successfully installed yfinance-0.1.54\n"
          ],
          "name": "stdout"
        }
      ]
    },
    {
      "cell_type": "code",
      "metadata": {
        "id": "pz0HAGmjNbwH",
        "colab_type": "code",
        "colab": {
          "base_uri": "https://localhost:8080/",
          "height": 632
        },
        "outputId": "022b9fe7-3927-4e09-9661-2a6bced93200"
      },
      "source": [
        "import yfinance as yf\n",
        "import pandas as pd\n",
        "import numpy as np\n",
        "import datetime as dt\n",
        "import statistics\n",
        "import time\n",
        "from pandas_datareader import data as pdr\n",
        "import matplotlib.pyplot as plt\n",
        "\n",
        "\n",
        "yf.pdr_override() \n",
        "#Runs until todays date\n",
        "now = dt.datetime.now() \n",
        "start =dt.datetime(2019,1,1)\n",
        "#Enter Your Average Gain %\n",
        "AvgGain=15 \n",
        "#Enter Your Average Loss %\n",
        "AvgLoss=5 \n",
        "smaUsed=[50,200]\n",
        "emaUsed=[21]\n",
        "#Can enter any stock symbol or 'quit' to stop\n",
        "stock = input(\"Enter the stock symbol (enter 'quit' to stop): \") \n",
        "\n",
        "#loop runs until user enters 'quit'\n",
        "while stock != \"quit\":\n",
        "\tdf = pdr.get_data_yahoo(stock, start, now)\n",
        "\tclose=df[\"Adj Close\"][-1]\n",
        "\tmaxStop=close*((100-AvgLoss)/100)\n",
        "\tTarget1R=round(close*((100+AvgGain)/100),2)\n",
        "\tTarget2R=round(close*(((100+(2*AvgGain))/100)),2)\n",
        "\tTarget3R=round(close*(((100+(3*AvgGain))/100)),2)\n",
        "\t\n",
        "\tfor x in smaUsed:\n",
        "\t\tsma=x\n",
        "\t\tdf[\"SMA_\"+str(sma)]=round(df.iloc[:,4].rolling(window=sma).mean(),2)\n",
        "\tfor x in emaUsed:\n",
        "\t\tema=x\n",
        "\t\tdf['EMA_'+str(ema)] = round(df.iloc[:,4].ewm(span=ema,adjust=False).mean(),2)\n",
        "\n",
        "\tsma50=round(df[\"SMA_50\"][-1],2)\n",
        "\tsma200=round(df[\"SMA_200\"][-1],2)\n",
        "\tema21=round(df[\"EMA_21\"][-1],2)\n",
        "\tlow5=round(min(df[\"Low\"].tail(5)),2)\n",
        "\tpf50=round(((close/sma50)-1)*100,2)\n",
        "\tcheck50=df[\"SMA_50\"][-1]>maxStop\n",
        "\tpf200=round(((close/sma200)-1)*100,2)\n",
        "\tcheck200=((close/df[\"SMA_200\"][-1])-1)*100>100\n",
        "\tpf21=round(((close/ema21)-1)*100,2)\n",
        "\tcheck21=df[\"EMA_21\"][-1]>maxStop \n",
        "\tpfl=round(((close/low5)-1)*100,2)\n",
        "\tcheckl=low5>maxStop \n",
        "\n",
        "\tprint()\n",
        "\tprint(\"Current Stock: \"+stock+\" Price: \"+str(round(close,2)))\n",
        "\tprint(\"21 EMA: \"+str(ema21)+ \" | 50 SMA: \"+str(sma50)+ \" | 200 SMA: \"+str(sma200)+ \" | 5 day Low: \"+str(low5))\n",
        "\tprint(\"-*-*-*-*-*-*-*-*-*-*-*-*-*-*-*-*-*-*-*-*-*-*-*-*-*-\")\n",
        "\tprint(\"Max Stop: \"+str(round(maxStop,2)))\n",
        "\tprint(\"Price Targets:\") \n",
        "\tprint(\"1R: \"+str(Target1R))\n",
        "\tprint(\"2R: \"+str(Target2R))\n",
        "\tprint(\"3R: \"+str(Target3R))\n",
        "\tprint(\"From 5 Day Low \"+ str(pfl)+ \"% -Within Max Stop: \"+str(checkl))\n",
        "\tprint(\"From 21 day EMA \"+ str(pf21)+ \"% -Within Max Stop: \"+str(check21))\n",
        "\tprint(\"From 50 day SMA \"+ str(pf50)+ \"% -Within Max Stop: \"+str(check50))\n",
        "\tprint(\"From 200 Day SMA \"+ str(pf200)+ \"% -In Danger Zone (Over 100% from 200 SMA): \"+str(check200))\n",
        "\tprint()\n",
        "\n",
        "\tstock = input(\"Enter the stock symbol (enter 'quit' to stop): \")"
      ],
      "execution_count": 2,
      "outputs": [
        {
          "output_type": "stream",
          "text": [
            "/usr/local/lib/python3.6/dist-packages/pandas_datareader/compat/__init__.py:7: FutureWarning: pandas.util.testing is deprecated. Use the functions in the public API at pandas.testing instead.\n",
            "  from pandas.util.testing import assert_frame_equal\n"
          ],
          "name": "stderr"
        },
        {
          "output_type": "stream",
          "text": [
            "Enter the stock symbol (enter 'quit' to stop): aapl\n",
            "[*********************100%***********************]  1 of 1 completed\n",
            "\n",
            "Current Stock: aapl Price: 115.54\n",
            "21 EMA: 117.65 | 50 SMA: 109.6 | 200 SMA: 83.33 | 5 day Low: 110.0\n",
            "-*-*-*-*-*-*-*-*-*-*-*-*-*-*-*-*-*-*-*-*-*-*-*-*-*-\n",
            "Max Stop: 109.76\n",
            "Price Targets:\n",
            "1R: 132.87\n",
            "2R: 150.2\n",
            "3R: 167.53\n",
            "From 5 Day Low 5.04% -Within Max Stop: True\n",
            "From 21 day EMA -1.79% -Within Max Stop: True\n",
            "From 50 day SMA 5.42% -Within Max Stop: False\n",
            "From 200 Day SMA 38.65% -In Danger Zone (Over 100% from 200 SMA): False\n",
            "\n",
            "Enter the stock symbol (enter 'quit' to stop): tsla\n",
            "[*********************100%***********************]  1 of 1 completed\n",
            "\n",
            "Current Stock: tsla Price: 449.76\n",
            "21 EMA: 394.39 | 50 SMA: 346.07 | 200 SMA: 188.15 | 5 day Low: 341.51\n",
            "-*-*-*-*-*-*-*-*-*-*-*-*-*-*-*-*-*-*-*-*-*-*-*-*-*-\n",
            "Max Stop: 427.27\n",
            "Price Targets:\n",
            "1R: 517.22\n",
            "2R: 584.69\n",
            "3R: 652.15\n",
            "From 5 Day Low 31.7% -Within Max Stop: False\n",
            "From 21 day EMA 14.04% -Within Max Stop: False\n",
            "From 50 day SMA 29.96% -Within Max Stop: False\n",
            "From 200 Day SMA 139.04% -In Danger Zone (Over 100% from 200 SMA): True\n",
            "\n",
            "Enter the stock symbol (enter 'quit' to stop): quit\n"
          ],
          "name": "stdout"
        }
      ]
    }
  ]
}